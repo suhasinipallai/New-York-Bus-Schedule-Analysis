{
 "cells": [
  {
   "cell_type": "markdown",
   "metadata": {},
   "source": [
    "## Is NYCT_4588 on Schedule??\n",
    "# If not, how much delay is expected?\n",
    "# On what days are the delay expected?\n",
    "# which hours of the day delay is expected?\n"
   ]
  },
  {
   "cell_type": "code",
   "execution_count": 94,
   "metadata": {
    "collapsed": true
   },
   "outputs": [],
   "source": [
    "import pandas\n",
    "import pandas as pd\n",
    "import numpy as np\n",
    "import geopandas\n",
    "import matplotlib.pyplot as plt\n",
    "import seaborn as sns\n",
    "import descartes\n",
    "\n",
    "import geopandas as gpd\n",
    "from shapely.geometry import Point, Polygon\n",
    "%matplotlib inline\n"
   ]
  },
  {
   "cell_type": "code",
   "execution_count": 95,
   "metadata": {},
   "outputs": [
    {
     "name": "stderr",
     "output_type": "stream",
     "text": [
      "C:\\Users\\Suhasini\\Anaconda3\\lib\\site-packages\\IPython\\core\\interactiveshell.py:2698: DtypeWarning: Columns (14,17) have mixed types. Specify dtype option on import or set low_memory=False.\n",
      "  interactivity=interactivity, compiler=compiler, result=result)\n"
     ]
    }
   ],
   "source": [
    "df = pd.read_csv(\"MTA-1706.csv\")"
   ]
  },
  {
   "cell_type": "code",
   "execution_count": 96,
   "metadata": {},
   "outputs": [
    {
     "name": "stdout",
     "output_type": "stream",
     "text": [
      "The dataframe has : 1048575   rows\n"
     ]
    }
   ],
   "source": [
    "print(\"The dataframe has :\",len(df), \"  rows\")"
   ]
  },
  {
   "cell_type": "code",
   "execution_count": 97,
   "metadata": {},
   "outputs": [
    {
     "name": "stdout",
     "output_type": "stream",
     "text": [
      "<class 'pandas.core.frame.DataFrame'>\n",
      "RangeIndex: 1048575 entries, 0 to 1048574\n",
      "Data columns (total 18 columns):\n",
      "RecordedAtTime               1048575 non-null object\n",
      "DirectionRef                 1048575 non-null int64\n",
      "PublishedLineName            1048575 non-null object\n",
      "OriginName                   1040112 non-null object\n",
      "OriginLat                    1040112 non-null float64\n",
      "OriginLong                   1040112 non-null float64\n",
      "DestinationName              1048575 non-null object\n",
      "DestinationLat               1047329 non-null float64\n",
      "DestinationLong              1047329 non-null float64\n",
      "VehicleRef                   1048575 non-null object\n",
      "VehicleLocation.Latitude     1048575 non-null float64\n",
      "VehicleLocation.Longitude    1048575 non-null float64\n",
      "NextStopPointName            1047439 non-null object\n",
      "ArrivalProximityText         1047439 non-null object\n",
      "DistanceFromStop             1047439 non-null object\n",
      "ExpectedArrivalTime          931342 non-null object\n",
      "ScheduledArrivalTime         1022903 non-null object\n",
      "Unnamed: 17                  59 non-null object\n",
      "dtypes: float64(6), int64(1), object(11)\n",
      "memory usage: 144.0+ MB\n"
     ]
    }
   ],
   "source": [
    "df.info()\n"
   ]
  },
  {
   "cell_type": "code",
   "execution_count": 98,
   "metadata": {},
   "outputs": [
    {
     "data": {
      "text/html": [
       "<div>\n",
       "<style>\n",
       "    .dataframe thead tr:only-child th {\n",
       "        text-align: right;\n",
       "    }\n",
       "\n",
       "    .dataframe thead th {\n",
       "        text-align: left;\n",
       "    }\n",
       "\n",
       "    .dataframe tbody tr th {\n",
       "        vertical-align: top;\n",
       "    }\n",
       "</style>\n",
       "<table border=\"1\" class=\"dataframe\">\n",
       "  <thead>\n",
       "    <tr style=\"text-align: right;\">\n",
       "      <th></th>\n",
       "      <th>RecordedAtTime</th>\n",
       "      <th>DirectionRef</th>\n",
       "      <th>PublishedLineName</th>\n",
       "      <th>OriginName</th>\n",
       "      <th>OriginLat</th>\n",
       "      <th>OriginLong</th>\n",
       "      <th>DestinationName</th>\n",
       "      <th>DestinationLat</th>\n",
       "      <th>DestinationLong</th>\n",
       "      <th>VehicleRef</th>\n",
       "      <th>VehicleLocation.Latitude</th>\n",
       "      <th>VehicleLocation.Longitude</th>\n",
       "      <th>NextStopPointName</th>\n",
       "      <th>ArrivalProximityText</th>\n",
       "      <th>DistanceFromStop</th>\n",
       "      <th>ExpectedArrivalTime</th>\n",
       "      <th>ScheduledArrivalTime</th>\n",
       "      <th>Unnamed: 17</th>\n",
       "    </tr>\n",
       "  </thead>\n",
       "  <tbody>\n",
       "    <tr>\n",
       "      <th>0</th>\n",
       "      <td>6/1/2017 0:03</td>\n",
       "      <td>0</td>\n",
       "      <td>B8</td>\n",
       "      <td>4 AV/95 ST</td>\n",
       "      <td>40.616104</td>\n",
       "      <td>-74.031143</td>\n",
       "      <td>BROWNSVILLE ROCKAWAY AV</td>\n",
       "      <td>40.656048</td>\n",
       "      <td>-73.907379</td>\n",
       "      <td>NYCT_430</td>\n",
       "      <td>40.635170</td>\n",
       "      <td>-73.960803</td>\n",
       "      <td>FOSTER AV/E 18 ST</td>\n",
       "      <td>approaching</td>\n",
       "      <td>76</td>\n",
       "      <td>6/1/2017 0:03</td>\n",
       "      <td>24:06:14</td>\n",
       "      <td>NaN</td>\n",
       "    </tr>\n",
       "    <tr>\n",
       "      <th>1</th>\n",
       "      <td>6/1/2017 0:03</td>\n",
       "      <td>1</td>\n",
       "      <td>S61</td>\n",
       "      <td>ST GEORGE FERRY/S61 &amp; S91</td>\n",
       "      <td>40.643169</td>\n",
       "      <td>-74.073494</td>\n",
       "      <td>S I MALL YUKON AV</td>\n",
       "      <td>40.575935</td>\n",
       "      <td>-74.167686</td>\n",
       "      <td>NYCT_8263</td>\n",
       "      <td>40.590802</td>\n",
       "      <td>-74.158340</td>\n",
       "      <td>MERRYMOUNT ST/TRAVIS AV</td>\n",
       "      <td>approaching</td>\n",
       "      <td>62</td>\n",
       "      <td>6/1/2017 0:03</td>\n",
       "      <td>23:58:02</td>\n",
       "      <td>NaN</td>\n",
       "    </tr>\n",
       "    <tr>\n",
       "      <th>2</th>\n",
       "      <td>6/1/2017 0:03</td>\n",
       "      <td>0</td>\n",
       "      <td>Bx10</td>\n",
       "      <td>E 206 ST/BAINBRIDGE AV</td>\n",
       "      <td>40.875008</td>\n",
       "      <td>-73.880142</td>\n",
       "      <td>RIVERDALE 263 ST</td>\n",
       "      <td>40.912376</td>\n",
       "      <td>-73.902534</td>\n",
       "      <td>NYCT_4223</td>\n",
       "      <td>40.886010</td>\n",
       "      <td>-73.912647</td>\n",
       "      <td>HENRY HUDSON PKY E/W 235 ST</td>\n",
       "      <td>at stop</td>\n",
       "      <td>5</td>\n",
       "      <td>6/1/2017 0:03</td>\n",
       "      <td>24:00:53</td>\n",
       "      <td>NaN</td>\n",
       "    </tr>\n",
       "    <tr>\n",
       "      <th>3</th>\n",
       "      <td>6/1/2017 0:03</td>\n",
       "      <td>0</td>\n",
       "      <td>Q5</td>\n",
       "      <td>TEARDROP/LAYOVER</td>\n",
       "      <td>40.701748</td>\n",
       "      <td>-73.802399</td>\n",
       "      <td>ROSEDALE LIRR STA via MERRICK</td>\n",
       "      <td>40.666012</td>\n",
       "      <td>-73.735939</td>\n",
       "      <td>NYCT_8422</td>\n",
       "      <td>40.668002</td>\n",
       "      <td>-73.729348</td>\n",
       "      <td>HOOK CREEK BL/SUNRISE HY</td>\n",
       "      <td>&lt; 1 stop away</td>\n",
       "      <td>267</td>\n",
       "      <td>6/1/2017 0:04</td>\n",
       "      <td>24:03:00</td>\n",
       "      <td>NaN</td>\n",
       "    </tr>\n",
       "    <tr>\n",
       "      <th>4</th>\n",
       "      <td>6/1/2017 0:03</td>\n",
       "      <td>1</td>\n",
       "      <td>Bx1</td>\n",
       "      <td>RIVERDALE AV/W 231 ST</td>\n",
       "      <td>40.881187</td>\n",
       "      <td>-73.909340</td>\n",
       "      <td>MOTT HAVEN 136 ST via CONCOURSE</td>\n",
       "      <td>40.809654</td>\n",
       "      <td>-73.928360</td>\n",
       "      <td>NYCT_4710</td>\n",
       "      <td>40.868134</td>\n",
       "      <td>-73.893032</td>\n",
       "      <td>GRAND CONCOURSE/E 196 ST</td>\n",
       "      <td>at stop</td>\n",
       "      <td>11</td>\n",
       "      <td>6/1/2017 0:03</td>\n",
       "      <td>23:59:38</td>\n",
       "      <td>NaN</td>\n",
       "    </tr>\n",
       "  </tbody>\n",
       "</table>\n",
       "</div>"
      ],
      "text/plain": [
       "  RecordedAtTime  DirectionRef PublishedLineName                 OriginName  \\\n",
       "0  6/1/2017 0:03             0                B8                 4 AV/95 ST   \n",
       "1  6/1/2017 0:03             1               S61  ST GEORGE FERRY/S61 & S91   \n",
       "2  6/1/2017 0:03             0              Bx10     E 206 ST/BAINBRIDGE AV   \n",
       "3  6/1/2017 0:03             0                Q5           TEARDROP/LAYOVER   \n",
       "4  6/1/2017 0:03             1               Bx1      RIVERDALE AV/W 231 ST   \n",
       "\n",
       "   OriginLat  OriginLong                  DestinationName  DestinationLat  \\\n",
       "0  40.616104  -74.031143          BROWNSVILLE ROCKAWAY AV       40.656048   \n",
       "1  40.643169  -74.073494                S I MALL YUKON AV       40.575935   \n",
       "2  40.875008  -73.880142                 RIVERDALE 263 ST       40.912376   \n",
       "3  40.701748  -73.802399    ROSEDALE LIRR STA via MERRICK       40.666012   \n",
       "4  40.881187  -73.909340  MOTT HAVEN 136 ST via CONCOURSE       40.809654   \n",
       "\n",
       "   DestinationLong VehicleRef  VehicleLocation.Latitude  \\\n",
       "0       -73.907379   NYCT_430                 40.635170   \n",
       "1       -74.167686  NYCT_8263                 40.590802   \n",
       "2       -73.902534  NYCT_4223                 40.886010   \n",
       "3       -73.735939  NYCT_8422                 40.668002   \n",
       "4       -73.928360  NYCT_4710                 40.868134   \n",
       "\n",
       "   VehicleLocation.Longitude            NextStopPointName  \\\n",
       "0                 -73.960803            FOSTER AV/E 18 ST   \n",
       "1                 -74.158340      MERRYMOUNT ST/TRAVIS AV   \n",
       "2                 -73.912647  HENRY HUDSON PKY E/W 235 ST   \n",
       "3                 -73.729348     HOOK CREEK BL/SUNRISE HY   \n",
       "4                 -73.893032     GRAND CONCOURSE/E 196 ST   \n",
       "\n",
       "  ArrivalProximityText DistanceFromStop ExpectedArrivalTime  \\\n",
       "0          approaching               76       6/1/2017 0:03   \n",
       "1          approaching               62       6/1/2017 0:03   \n",
       "2              at stop                5       6/1/2017 0:03   \n",
       "3        < 1 stop away              267       6/1/2017 0:04   \n",
       "4              at stop               11       6/1/2017 0:03   \n",
       "\n",
       "  ScheduledArrivalTime Unnamed: 17  \n",
       "0             24:06:14         NaN  \n",
       "1             23:58:02         NaN  \n",
       "2             24:00:53         NaN  \n",
       "3             24:03:00         NaN  \n",
       "4             23:59:38         NaN  "
      ]
     },
     "execution_count": 98,
     "metadata": {},
     "output_type": "execute_result"
    }
   ],
   "source": [
    "pandas.set_option('display.max_columns',None)\n",
    "df.head(5)"
   ]
  },
  {
   "cell_type": "code",
   "execution_count": 99,
   "metadata": {},
   "outputs": [
    {
     "name": "stdout",
     "output_type": "stream",
     "text": [
      "there are 305 bus # 's \n"
     ]
    }
   ],
   "source": [
    "print(\"there are 305 bus # 's \")"
   ]
  },
  {
   "cell_type": "markdown",
   "metadata": {},
   "source": [
    "### is B6 running on schedule??? "
   ]
  },
  {
   "cell_type": "code",
   "execution_count": 147,
   "metadata": {},
   "outputs": [],
   "source": [
    "B6 = df[df.PublishedLineName == 'B6']"
   ]
  },
  {
   "cell_type": "code",
   "execution_count": 148,
   "metadata": {},
   "outputs": [
    {
     "data": {
      "text/plain": [
       "Index(['RecordedAtTime', 'DirectionRef', 'PublishedLineName', 'OriginName',\n",
       "       'OriginLat', 'OriginLong', 'DestinationName', 'DestinationLat',\n",
       "       'DestinationLong', 'VehicleRef', 'VehicleLocation.Latitude',\n",
       "       'VehicleLocation.Longitude', 'NextStopPointName',\n",
       "       'ArrivalProximityText', 'DistanceFromStop', 'ExpectedArrivalTime',\n",
       "       'ScheduledArrivalTime', 'Unnamed: 17'],\n",
       "      dtype='object')"
      ]
     },
     "execution_count": 148,
     "metadata": {},
     "output_type": "execute_result"
    }
   ],
   "source": [
    "B6.columns"
   ]
  },
  {
   "cell_type": "code",
   "execution_count": 149,
   "metadata": {},
   "outputs": [
    {
     "name": "stderr",
     "output_type": "stream",
     "text": [
      "C:\\Users\\Suhasini\\Anaconda3\\lib\\site-packages\\ipykernel_launcher.py:1: SettingWithCopyWarning: \n",
      "A value is trying to be set on a copy of a slice from a DataFrame\n",
      "\n",
      "See the caveats in the documentation: http://pandas.pydata.org/pandas-docs/stable/indexing.html#indexing-view-versus-copy\n",
      "  \"\"\"Entry point for launching an IPython kernel.\n"
     ]
    }
   ],
   "source": [
    "B6.drop(['Unnamed: 17'], axis=1,inplace=True)\n",
    "#gapminder_ocean.drop(['pop'], axis=1)"
   ]
  },
  {
   "cell_type": "code",
   "execution_count": 103,
   "metadata": {},
   "outputs": [
    {
     "data": {
      "text/html": [
       "<div>\n",
       "<style>\n",
       "    .dataframe thead tr:only-child th {\n",
       "        text-align: right;\n",
       "    }\n",
       "\n",
       "    .dataframe thead th {\n",
       "        text-align: left;\n",
       "    }\n",
       "\n",
       "    .dataframe tbody tr th {\n",
       "        vertical-align: top;\n",
       "    }\n",
       "</style>\n",
       "<table border=\"1\" class=\"dataframe\">\n",
       "  <thead>\n",
       "    <tr style=\"text-align: right;\">\n",
       "      <th></th>\n",
       "      <th>RecordedAtTime</th>\n",
       "      <th>DirectionRef</th>\n",
       "      <th>PublishedLineName</th>\n",
       "      <th>OriginName</th>\n",
       "      <th>OriginLat</th>\n",
       "      <th>OriginLong</th>\n",
       "      <th>DestinationName</th>\n",
       "      <th>DestinationLat</th>\n",
       "      <th>DestinationLong</th>\n",
       "      <th>VehicleRef</th>\n",
       "      <th>VehicleLocation.Latitude</th>\n",
       "      <th>VehicleLocation.Longitude</th>\n",
       "      <th>NextStopPointName</th>\n",
       "      <th>ArrivalProximityText</th>\n",
       "      <th>DistanceFromStop</th>\n",
       "      <th>ExpectedArrivalTime</th>\n",
       "      <th>ScheduledArrivalTime</th>\n",
       "    </tr>\n",
       "  </thead>\n",
       "  <tbody>\n",
       "    <tr>\n",
       "      <th>20</th>\n",
       "      <td>6/1/2017 0:03</td>\n",
       "      <td>0</td>\n",
       "      <td>B6</td>\n",
       "      <td>HARWAY AV/BAY 37 ST</td>\n",
       "      <td>40.593510</td>\n",
       "      <td>-73.993996</td>\n",
       "      <td>EAST NY NEW LOTS STA</td>\n",
       "      <td>40.666420</td>\n",
       "      <td>-73.883385</td>\n",
       "      <td>NYCT_7158</td>\n",
       "      <td>40.645676</td>\n",
       "      <td>-73.901474</td>\n",
       "      <td>GLENWOOD RD/E 98 ST</td>\n",
       "      <td>at stop</td>\n",
       "      <td>4</td>\n",
       "      <td>6/1/2017 0:03</td>\n",
       "      <td>24:05:00</td>\n",
       "    </tr>\n",
       "    <tr>\n",
       "      <th>91</th>\n",
       "      <td>6/1/2017 0:03</td>\n",
       "      <td>1</td>\n",
       "      <td>B6</td>\n",
       "      <td>LIVONIA AV/ASHFORD ST</td>\n",
       "      <td>40.666382</td>\n",
       "      <td>-73.883614</td>\n",
       "      <td>BENSONHURST HARWAY AV</td>\n",
       "      <td>40.592949</td>\n",
       "      <td>-73.993385</td>\n",
       "      <td>NYCT_4989</td>\n",
       "      <td>40.666288</td>\n",
       "      <td>-73.883834</td>\n",
       "      <td>ASHFORD ST/NEW LOTS AV</td>\n",
       "      <td>&lt; 1 stop away</td>\n",
       "      <td>158</td>\n",
       "      <td>6/1/2017 0:03</td>\n",
       "      <td>24:04:27</td>\n",
       "    </tr>\n",
       "    <tr>\n",
       "      <th>191</th>\n",
       "      <td>6/1/2017 0:03</td>\n",
       "      <td>1</td>\n",
       "      <td>B6</td>\n",
       "      <td>LIVONIA AV/ASHFORD ST</td>\n",
       "      <td>40.666382</td>\n",
       "      <td>-73.883614</td>\n",
       "      <td>BENSONHURST HARWAY AV</td>\n",
       "      <td>40.592949</td>\n",
       "      <td>-73.993385</td>\n",
       "      <td>NYCT_4861</td>\n",
       "      <td>40.642107</td>\n",
       "      <td>-73.903071</td>\n",
       "      <td>FLATLANDS AV/E 94 ST</td>\n",
       "      <td>at stop</td>\n",
       "      <td>11</td>\n",
       "      <td>6/1/2017 0:03</td>\n",
       "      <td>23:49:19</td>\n",
       "    </tr>\n",
       "    <tr>\n",
       "      <th>221</th>\n",
       "      <td>6/1/2017 0:03</td>\n",
       "      <td>0</td>\n",
       "      <td>B6</td>\n",
       "      <td>HARWAY AV/BAY 37 ST</td>\n",
       "      <td>40.593510</td>\n",
       "      <td>-73.993996</td>\n",
       "      <td>EAST NY NEW LOTS STA</td>\n",
       "      <td>40.666420</td>\n",
       "      <td>-73.883385</td>\n",
       "      <td>NYCT_7151</td>\n",
       "      <td>40.633125</td>\n",
       "      <td>-73.923898</td>\n",
       "      <td>AV H/E 56 ST</td>\n",
       "      <td>approaching</td>\n",
       "      <td>143</td>\n",
       "      <td>6/1/2017 0:04</td>\n",
       "      <td>24:05:48</td>\n",
       "    </tr>\n",
       "    <tr>\n",
       "      <th>294</th>\n",
       "      <td>6/1/2017 0:03</td>\n",
       "      <td>1</td>\n",
       "      <td>B6</td>\n",
       "      <td>LIVONIA AV/ASHFORD ST</td>\n",
       "      <td>40.666382</td>\n",
       "      <td>-73.883614</td>\n",
       "      <td>BENSONHURST HARWAY AV</td>\n",
       "      <td>40.592949</td>\n",
       "      <td>-73.993385</td>\n",
       "      <td>NYCT_7174</td>\n",
       "      <td>40.626191</td>\n",
       "      <td>-73.952191</td>\n",
       "      <td>AV J/E 23 ST</td>\n",
       "      <td>approaching</td>\n",
       "      <td>144</td>\n",
       "      <td>6/1/2017 0:04</td>\n",
       "      <td>24:05:08</td>\n",
       "    </tr>\n",
       "  </tbody>\n",
       "</table>\n",
       "</div>"
      ],
      "text/plain": [
       "    RecordedAtTime  DirectionRef PublishedLineName             OriginName  \\\n",
       "20   6/1/2017 0:03             0                B6    HARWAY AV/BAY 37 ST   \n",
       "91   6/1/2017 0:03             1                B6  LIVONIA AV/ASHFORD ST   \n",
       "191  6/1/2017 0:03             1                B6  LIVONIA AV/ASHFORD ST   \n",
       "221  6/1/2017 0:03             0                B6    HARWAY AV/BAY 37 ST   \n",
       "294  6/1/2017 0:03             1                B6  LIVONIA AV/ASHFORD ST   \n",
       "\n",
       "     OriginLat  OriginLong        DestinationName  DestinationLat  \\\n",
       "20   40.593510  -73.993996   EAST NY NEW LOTS STA       40.666420   \n",
       "91   40.666382  -73.883614  BENSONHURST HARWAY AV       40.592949   \n",
       "191  40.666382  -73.883614  BENSONHURST HARWAY AV       40.592949   \n",
       "221  40.593510  -73.993996   EAST NY NEW LOTS STA       40.666420   \n",
       "294  40.666382  -73.883614  BENSONHURST HARWAY AV       40.592949   \n",
       "\n",
       "     DestinationLong VehicleRef  VehicleLocation.Latitude  \\\n",
       "20        -73.883385  NYCT_7158                 40.645676   \n",
       "91        -73.993385  NYCT_4989                 40.666288   \n",
       "191       -73.993385  NYCT_4861                 40.642107   \n",
       "221       -73.883385  NYCT_7151                 40.633125   \n",
       "294       -73.993385  NYCT_7174                 40.626191   \n",
       "\n",
       "     VehicleLocation.Longitude       NextStopPointName ArrivalProximityText  \\\n",
       "20                  -73.901474     GLENWOOD RD/E 98 ST              at stop   \n",
       "91                  -73.883834  ASHFORD ST/NEW LOTS AV        < 1 stop away   \n",
       "191                 -73.903071    FLATLANDS AV/E 94 ST              at stop   \n",
       "221                 -73.923898            AV H/E 56 ST          approaching   \n",
       "294                 -73.952191            AV J/E 23 ST          approaching   \n",
       "\n",
       "    DistanceFromStop ExpectedArrivalTime ScheduledArrivalTime  \n",
       "20                 4       6/1/2017 0:03             24:05:00  \n",
       "91               158       6/1/2017 0:03             24:04:27  \n",
       "191               11       6/1/2017 0:03             23:49:19  \n",
       "221              143       6/1/2017 0:04             24:05:48  \n",
       "294              144       6/1/2017 0:04             24:05:08  "
      ]
     },
     "execution_count": 103,
     "metadata": {},
     "output_type": "execute_result"
    }
   ],
   "source": [
    "B6.head(5)"
   ]
  },
  {
   "cell_type": "code",
   "execution_count": 24,
   "metadata": {},
   "outputs": [
    {
     "data": {
      "text/plain": [
       "HARWAY AV/BAY 37 ST                  8835\n",
       "LIVONIA AV/ASHFORD ST                6676\n",
       "ROCKAWAY STATION/ROCKAWAY STATION    3400\n",
       "AV J/CONEY ISLAND AV                  523\n",
       "BEDFORD AV/CAMPUS ROAD                188\n",
       "FLATLANDS AV/ELTON ST                  31\n",
       "FLATLANDS AV/E 82 ST                   21\n",
       "E 45 ST\\GLENWOOD RD                    15\n",
       "BAY PY/60 ST                            9\n",
       "Name: OriginName, dtype: int64"
      ]
     },
     "execution_count": 24,
     "metadata": {},
     "output_type": "execute_result"
    }
   ],
   "source": [
    "B6.OriginName.value_counts()"
   ]
  },
  {
   "cell_type": "code",
   "execution_count": 25,
   "metadata": {},
   "outputs": [
    {
     "data": {
      "text/plain": [
       "LTD BENSONHURST HARWAY AV    5312\n",
       "BENSONHURST HARWAY AV        4688\n",
       "LTD EAST NY NEW LOTS STA     4674\n",
       "ROCK PKY STA                 3398\n",
       "EAST NY NEW LOTS STA         1367\n",
       "AVENUE J CONEY IS AV          386\n",
       "Name: DestinationName, dtype: int64"
      ]
     },
     "execution_count": 25,
     "metadata": {},
     "output_type": "execute_result"
    }
   ],
   "source": [
    "B6.DestinationName.value_counts()"
   ]
  },
  {
   "cell_type": "code",
   "execution_count": 35,
   "metadata": {},
   "outputs": [],
   "source": [
    "routes_df_geo = [Point(x, y) for x, y in zip(B6.OriginLong, B6.OriginLat)]\n",
    "gdf = geopandas.GeoDataFrame(B6,geometry=routes_df_geo)"
   ]
  },
  {
   "cell_type": "code",
   "execution_count": 36,
   "metadata": {},
   "outputs": [
    {
     "name": "stdout",
     "output_type": "stream",
     "text": [
      "    RecordedAtTime  DirectionRef PublishedLineName             OriginName  \\\n",
      "20   6/1/2017 0:03             0                B6    HARWAY AV/BAY 37 ST   \n",
      "91   6/1/2017 0:03             1                B6  LIVONIA AV/ASHFORD ST   \n",
      "191  6/1/2017 0:03             1                B6  LIVONIA AV/ASHFORD ST   \n",
      "221  6/1/2017 0:03             0                B6    HARWAY AV/BAY 37 ST   \n",
      "294  6/1/2017 0:03             1                B6  LIVONIA AV/ASHFORD ST   \n",
      "297  6/1/2017 0:03             1                B6  LIVONIA AV/ASHFORD ST   \n",
      "493  6/1/2017 0:03             1                B6  LIVONIA AV/ASHFORD ST   \n",
      "\n",
      "     OriginLat  OriginLong        DestinationName  DestinationLat  \\\n",
      "20   40.593510  -73.993996   EAST NY NEW LOTS STA       40.666420   \n",
      "91   40.666382  -73.883614  BENSONHURST HARWAY AV       40.592949   \n",
      "191  40.666382  -73.883614  BENSONHURST HARWAY AV       40.592949   \n",
      "221  40.593510  -73.993996   EAST NY NEW LOTS STA       40.666420   \n",
      "294  40.666382  -73.883614  BENSONHURST HARWAY AV       40.592949   \n",
      "297  40.666382  -73.883614  BENSONHURST HARWAY AV       40.592949   \n",
      "493  40.666382  -73.883614  BENSONHURST HARWAY AV       40.592949   \n",
      "\n",
      "     DestinationLong VehicleRef  VehicleLocation.Latitude  \\\n",
      "20        -73.883385  NYCT_7158                 40.645676   \n",
      "91        -73.993385  NYCT_4989                 40.666288   \n",
      "191       -73.993385  NYCT_4861                 40.642107   \n",
      "221       -73.883385  NYCT_7151                 40.633125   \n",
      "294       -73.993385  NYCT_7174                 40.626191   \n",
      "297       -73.993385  NYCT_7152                 40.634143   \n",
      "493       -73.993385  NYCT_4876                 40.589642   \n",
      "\n",
      "     VehicleLocation.Longitude        NextStopPointName ArrivalProximityText  \\\n",
      "20                  -73.901474      GLENWOOD RD/E 98 ST              at stop   \n",
      "91                  -73.883834   ASHFORD ST/NEW LOTS AV        < 1 stop away   \n",
      "191                 -73.903071     FLATLANDS AV/E 94 ST              at stop   \n",
      "221                 -73.923898             AV H/E 56 ST          approaching   \n",
      "294                 -73.952191             AV J/E 23 ST          approaching   \n",
      "297                 -73.945425  GLENWOOD RD/NOSTRAND AV        < 1 stop away   \n",
      "493                 -73.993345     26 AV/SHORE PKY SR N          approaching   \n",
      "\n",
      "    DistanceFromStop ExpectedArrivalTime ScheduledArrivalTime Unnamed: 17  \\\n",
      "20                 4       6/1/2017 0:03             24:05:00         NaN   \n",
      "91               158       6/1/2017 0:03             24:04:27         NaN   \n",
      "191               11       6/1/2017 0:03             23:49:19         NaN   \n",
      "221              143       6/1/2017 0:04             24:05:48         NaN   \n",
      "294              144       6/1/2017 0:04             24:05:08         NaN   \n",
      "297              197       6/1/2017 0:04             23:43:00         NaN   \n",
      "493              113                 NaN             24:02:08         NaN   \n",
      "\n",
      "                                 geometry  \n",
      "20   POINT (-73.993996 40.59350999999999)  \n",
      "91   POINT (-73.88361399999999 40.666382)  \n",
      "191  POINT (-73.88361399999999 40.666382)  \n",
      "221  POINT (-73.993996 40.59350999999999)  \n",
      "294  POINT (-73.88361399999999 40.666382)  \n",
      "297  POINT (-73.88361399999999 40.666382)  \n",
      "493  POINT (-73.88361399999999 40.666382)  \n"
     ]
    }
   ],
   "source": [
    "print(gdf.head(7))"
   ]
  },
  {
   "cell_type": "code",
   "execution_count": 38,
   "metadata": {
    "collapsed": true
   },
   "outputs": [],
   "source": [
    "world = geopandas.read_file(geopandas.datasets.get_path('naturalearth_lowres'))"
   ]
  },
  {
   "cell_type": "code",
   "execution_count": 59,
   "metadata": {},
   "outputs": [
    {
     "data": {
      "text/html": [
       "<div>\n",
       "<style>\n",
       "    .dataframe thead tr:only-child th {\n",
       "        text-align: right;\n",
       "    }\n",
       "\n",
       "    .dataframe thead th {\n",
       "        text-align: left;\n",
       "    }\n",
       "\n",
       "    .dataframe tbody tr th {\n",
       "        vertical-align: top;\n",
       "    }\n",
       "</style>\n",
       "<table border=\"1\" class=\"dataframe\">\n",
       "  <thead>\n",
       "    <tr style=\"text-align: right;\">\n",
       "      <th></th>\n",
       "      <th>pop_est</th>\n",
       "      <th>continent</th>\n",
       "      <th>name</th>\n",
       "      <th>iso_a3</th>\n",
       "      <th>gdp_md_est</th>\n",
       "      <th>geometry</th>\n",
       "    </tr>\n",
       "  </thead>\n",
       "  <tbody>\n",
       "    <tr>\n",
       "      <th>168</th>\n",
       "      <td>313973000.0</td>\n",
       "      <td>North America</td>\n",
       "      <td>United States</td>\n",
       "      <td>USA</td>\n",
       "      <td>15094000.0</td>\n",
       "      <td>(POLYGON ((-155.54211 19.08348000000001, -155....</td>\n",
       "    </tr>\n",
       "  </tbody>\n",
       "</table>\n",
       "</div>"
      ],
      "text/plain": [
       "         pop_est      continent           name iso_a3  gdp_md_est  \\\n",
       "168  313973000.0  North America  United States    USA  15094000.0   \n",
       "\n",
       "                                              geometry  \n",
       "168  (POLYGON ((-155.54211 19.08348000000001, -155....  "
      ]
     },
     "execution_count": 59,
     "metadata": {},
     "output_type": "execute_result"
    }
   ],
   "source": [
    "world[world.name == 'United States'] "
   ]
  },
  {
   "cell_type": "code",
   "execution_count": 60,
   "metadata": {},
   "outputs": [
    {
     "data": {
      "image/png": "[encoded data removed]",
      "text/plain": [
       "<matplotlib.figure.Figure at 0x2080d6bf710>"
      ]
     },
     "metadata": {},
     "output_type": "display_data"
    }
   ],
   "source": [
    "# We restrict to South America.\n",
    "ax = world[world.name == 'United States'].plot(\n",
    "    color='white', edgecolor='black')\n",
    "# We can now plot our ``GeoDataFrame``.\n",
    "gdf.plot(ax=ax, color='red', figsize = (10,20))\n",
    "plt.show();\n",
    "\n"
   ]
  },
  {
   "cell_type": "code",
   "execution_count": 61,
   "metadata": {},
   "outputs": [
    {
     "data": {
      "text/plain": [
       "<matplotlib.axes._subplots.AxesSubplot at 0x2080d6c67f0>"
      ]
     },
     "execution_count": 61,
     "metadata": {},
     "output_type": "execute_result"
    },
    {
     "data": {
      "image/png": "[encoded data removed]",
      "text/plain": [
       "<matplotlib.figure.Figure at 0x2080d6ce6d8>"
      ]
     },
     "metadata": {},
     "output_type": "display_data"
    }
   ],
   "source": [
    "B6.plot()"
   ]
  },
  {
   "cell_type": "code",
   "execution_count": 71,
   "metadata": {},
   "outputs": [
    {
     "data": {
      "text/plain": [
       "Index(['RecordedAtTime', 'DirectionRef', 'PublishedLineName', 'OriginName',\n",
       "       'OriginLat', 'OriginLong', 'DestinationName', 'DestinationLat',\n",
       "       'DestinationLong', 'VehicleRef', 'VehicleLocation.Latitude',\n",
       "       'VehicleLocation.Longitude', 'NextStopPointName',\n",
       "       'ArrivalProximityText', 'DistanceFromStop', 'ExpectedArrivalTime',\n",
       "       'ScheduledArrivalTime', 'Unnamed: 17'],\n",
       "      dtype='object')"
      ]
     },
     "execution_count": 71,
     "metadata": {},
     "output_type": "execute_result"
    }
   ],
   "source": [
    "df.columns"
   ]
  },
  {
   "cell_type": "code",
   "execution_count": 78,
   "metadata": {},
   "outputs": [
    {
     "data": {
      "image/png": "[encoded data removed]",
      "text/plain": [
       "<matplotlib.figure.Figure at 0x2080eb7edd8>"
      ]
     },
     "metadata": {},
     "output_type": "display_data"
    },
    {
     "data": {
      "text/plain": [
       "HARWAY AV/BAY 37 ST                  8835\n",
       "LIVONIA AV/ASHFORD ST                6676\n",
       "ROCKAWAY STATION/ROCKAWAY STATION    3400\n",
       "AV J/CONEY ISLAND AV                  523\n",
       "BEDFORD AV/CAMPUS ROAD                188\n",
       "FLATLANDS AV/ELTON ST                  31\n",
       "FLATLANDS AV/E 82 ST                   21\n",
       "E 45 ST\\GLENWOOD RD                    15\n",
       "BAY PY/60 ST                            9\n",
       "Name: OriginName, dtype: int64"
      ]
     },
     "execution_count": 78,
     "metadata": {},
     "output_type": "execute_result"
    }
   ],
   "source": [
    "sns.countplot(x='OriginName',data=B6);  ####  the employee attrition is \n",
    "plt.show()\n",
    "B6.OriginName.value_counts()\n"
   ]
  },
  {
   "cell_type": "code",
   "execution_count": 81,
   "metadata": {},
   "outputs": [
    {
     "data": {
      "image/png": "[encoded data removed]",
      "text/plain": [
       "<matplotlib.figure.Figure at 0x2080e7b2128>"
      ]
     },
     "metadata": {},
     "output_type": "display_data"
    },
    {
     "data": {
      "text/plain": [
       "LTD BENSONHURST HARWAY AV    5312\n",
       "BENSONHURST HARWAY AV        4688\n",
       "LTD EAST NY NEW LOTS STA     4674\n",
       "ROCK PKY STA                 3398\n",
       "EAST NY NEW LOTS STA         1367\n",
       "AVENUE J CONEY IS AV          386\n",
       "Name: DestinationName, dtype: int64"
      ]
     },
     "execution_count": 81,
     "metadata": {},
     "output_type": "execute_result"
    }
   ],
   "source": [
    "sns.countplot(x='DestinationName',data=B6);  ####  the employee attrition is \n",
    "plt.show()\n",
    "B6.DestinationName.value_counts()\n"
   ]
  },
  {
   "cell_type": "code",
   "execution_count": 82,
   "metadata": {},
   "outputs": [
    {
     "data": {
      "image/png": "[encoded data removed]",
      "text/plain": [
       "<matplotlib.figure.Figure at 0x2080db91d30>"
      ]
     },
     "metadata": {},
     "output_type": "display_data"
    }
   ],
   "source": [
    "### see the correlation among features using correlation matrix\n",
    "corr = B6.corr()\n",
    "mask = np.zeros_like(corr, dtype=np.bool)\n",
    "mask[np.triu_indices_from(mask)] = True\n",
    "\n",
    "sns.heatmap(corr,mask = mask,\n",
    "           xticklabels = corr.columns.values,\n",
    "           yticklabels = corr.columns.values);"
   ]
  },
  {
   "cell_type": "code",
   "execution_count": 158,
   "metadata": {},
   "outputs": [
    {
     "name": "stderr",
     "output_type": "stream",
     "text": [
      "C:\\Users\\Suhasini\\Anaconda3\\lib\\site-packages\\pandas\\core\\generic.py:3110: SettingWithCopyWarning: \n",
      "A value is trying to be set on a copy of a slice from a DataFrame.\n",
      "Try using .loc[row_indexer,col_indexer] = value instead\n",
      "\n",
      "See the caveats in the documentation: http://pandas.pydata.org/pandas-docs/stable/indexing.html#indexing-view-versus-copy\n",
      "  self[name] = value\n"
     ]
    }
   ],
   "source": [
    "## Convert Recordedattime to Datetime obj \n",
    "B6.RecordedAtTime = pd.to_datetime(B6.RecordedAtTime)\n",
    "time_mask = (B6['RecordedAtTime'].dt.hour >= 3) & (B6['RecordedAtTime'].dt.hour < 23)"
   ]
  },
  {
   "cell_type": "code",
   "execution_count": 162,
   "metadata": {},
   "outputs": [
    {
     "name": "stderr",
     "output_type": "stream",
     "text": [
      "C:\\Users\\Suhasini\\Anaconda3\\lib\\site-packages\\ipykernel_launcher.py:1: UserWarning: Boolean Series key will be reindexed to match DataFrame index.\n",
      "  \"\"\"Entry point for launching an IPython kernel.\n"
     ]
    }
   ],
   "source": [
    "B6 = B6[time_mask] ## exclude midnight hours"
   ]
  },
  {
   "cell_type": "code",
   "execution_count": 164,
   "metadata": {},
   "outputs": [
    {
     "data": {
      "text/plain": [
       "18862"
      ]
     },
     "execution_count": 164,
     "metadata": {},
     "output_type": "execute_result"
    }
   ],
   "source": [
    "len(B6)"
   ]
  },
  {
   "cell_type": "code",
   "execution_count": 166,
   "metadata": {
    "collapsed": true
   },
   "outputs": [],
   "source": [
    "## convert expected and scheduled time to date time objects\n",
    "B6.ExpectedArrivalTime = pd.to_datetime(B6.ExpectedArrivalTime)\n",
    "B6.ScheduledArrivalTime = pd.to_datetime(B6.ScheduledArrivalTime)"
   ]
  },
  {
   "cell_type": "code",
   "execution_count": 171,
   "metadata": {
    "collapsed": true
   },
   "outputs": [],
   "source": [
    "## Calculate delay in seconds then add it as another column in m_101\n",
    "expected_hours  = B6.ExpectedArrivalTime.dt.hour\n",
    "expected_minutes = B6.ExpectedArrivalTime.dt.minute\n",
    "expected_seconds = B6.ExpectedArrivalTime.dt.second\n",
    "\n",
    "\n"
   ]
  },
  {
   "cell_type": "code",
   "execution_count": 172,
   "metadata": {
    "collapsed": true
   },
   "outputs": [],
   "source": [
    "scheduled_hours = B6.ScheduledArrivalTime.dt.hour\n",
    "scheduled_minutes = B6.ScheduledArrivalTime.dt.minute\n",
    "scheduled_seconds = B6.ScheduledArrivalTime.dt.second"
   ]
  },
  {
   "cell_type": "code",
   "execution_count": null,
   "metadata": {
    "collapsed": true
   },
   "outputs": [],
   "source": [
    "m_101$VehicleDelay <- 3600 * (expected_hours - scheduled_hours) +\n",
    "                      60 * (expected_minutes - scheduled_minutes) +\n",
    "                      (expected_seconds - scheduled_seconds)"
   ]
  },
  {
   "cell_type": "code",
   "execution_count": 176,
   "metadata": {},
   "outputs": [],
   "source": [
    "B6['VehicleDelay'] = 3600 *(expected_hours - scheduled_hours) +60 * (expected_minutes - scheduled_minutes) +(expected_seconds - scheduled_seconds)"
   ]
  },
  {
   "cell_type": "code",
   "execution_count": 183,
   "metadata": {},
   "outputs": [],
   "source": [
    "B6['day_of_week'] = B6['RecordedAtTime'].dt.weekday_name\n"
   ]
  },
  {
   "cell_type": "code",
   "execution_count": 197,
   "metadata": {},
   "outputs": [
    {
     "data": {
      "text/html": [
       "<div>\n",
       "<style>\n",
       "    .dataframe thead tr:only-child th {\n",
       "        text-align: right;\n",
       "    }\n",
       "\n",
       "    .dataframe thead th {\n",
       "        text-align: left;\n",
       "    }\n",
       "\n",
       "    .dataframe tbody tr th {\n",
       "        vertical-align: top;\n",
       "    }\n",
       "</style>\n",
       "<table border=\"1\" class=\"dataframe\">\n",
       "  <thead>\n",
       "    <tr style=\"text-align: right;\">\n",
       "      <th></th>\n",
       "      <th>RecordedAtTime</th>\n",
       "      <th>DirectionRef</th>\n",
       "      <th>PublishedLineName</th>\n",
       "      <th>OriginName</th>\n",
       "      <th>OriginLat</th>\n",
       "      <th>OriginLong</th>\n",
       "      <th>DestinationName</th>\n",
       "      <th>DestinationLat</th>\n",
       "      <th>DestinationLong</th>\n",
       "      <th>VehicleRef</th>\n",
       "      <th>VehicleLocation.Latitude</th>\n",
       "      <th>VehicleLocation.Longitude</th>\n",
       "      <th>NextStopPointName</th>\n",
       "      <th>ArrivalProximityText</th>\n",
       "      <th>DistanceFromStop</th>\n",
       "      <th>ExpectedArrivalTime</th>\n",
       "      <th>ScheduledArrivalTime</th>\n",
       "      <th>VehicleDelay</th>\n",
       "      <th>day_of_week</th>\n",
       "      <th>MeanDelay</th>\n",
       "    </tr>\n",
       "  </thead>\n",
       "  <tbody>\n",
       "    <tr>\n",
       "      <th>7040</th>\n",
       "      <td>2017-06-01 03:03:00</td>\n",
       "      <td>1</td>\n",
       "      <td>B6</td>\n",
       "      <td>LIVONIA AV/ASHFORD ST</td>\n",
       "      <td>40.666382</td>\n",
       "      <td>-73.883614</td>\n",
       "      <td>BENSONHURST HARWAY AV</td>\n",
       "      <td>40.592949</td>\n",
       "      <td>-73.993385</td>\n",
       "      <td>NYCT_7186</td>\n",
       "      <td>40.632639</td>\n",
       "      <td>-73.952826</td>\n",
       "      <td>BEDFORD AV/CAMPUS ROAD</td>\n",
       "      <td>approaching</td>\n",
       "      <td>74</td>\n",
       "      <td>2017-06-01 03:03:00</td>\n",
       "      <td>2020-01-11 03:02:27</td>\n",
       "      <td>33.0</td>\n",
       "      <td>Thursday</td>\n",
       "      <td>NaN</td>\n",
       "    </tr>\n",
       "    <tr>\n",
       "      <th>7041</th>\n",
       "      <td>2017-06-01 03:03:00</td>\n",
       "      <td>1</td>\n",
       "      <td>B6</td>\n",
       "      <td>LIVONIA AV/ASHFORD ST</td>\n",
       "      <td>40.666382</td>\n",
       "      <td>-73.883614</td>\n",
       "      <td>BENSONHURST HARWAY AV</td>\n",
       "      <td>40.592949</td>\n",
       "      <td>-73.993385</td>\n",
       "      <td>NYCT_7186</td>\n",
       "      <td>40.632639</td>\n",
       "      <td>-73.952826</td>\n",
       "      <td>BEDFORD AV/CAMPUS ROAD</td>\n",
       "      <td>approaching</td>\n",
       "      <td>74</td>\n",
       "      <td>2017-06-01 03:03:00</td>\n",
       "      <td>2020-01-11 03:00:27</td>\n",
       "      <td>153.0</td>\n",
       "      <td>Thursday</td>\n",
       "      <td>NaN</td>\n",
       "    </tr>\n",
       "    <tr>\n",
       "      <th>7115</th>\n",
       "      <td>2017-06-01 03:03:00</td>\n",
       "      <td>0</td>\n",
       "      <td>B6</td>\n",
       "      <td>HARWAY AV/BAY 37 ST</td>\n",
       "      <td>40.593510</td>\n",
       "      <td>-73.993996</td>\n",
       "      <td>EAST NY NEW LOTS STA</td>\n",
       "      <td>40.666420</td>\n",
       "      <td>-73.883385</td>\n",
       "      <td>NYCT_7145</td>\n",
       "      <td>40.596991</td>\n",
       "      <td>-73.998363</td>\n",
       "      <td>CROPSEY AV/BAY 31 ST</td>\n",
       "      <td>at stop</td>\n",
       "      <td>0</td>\n",
       "      <td>2017-06-01 03:03:00</td>\n",
       "      <td>2020-01-11 03:01:14</td>\n",
       "      <td>106.0</td>\n",
       "      <td>Thursday</td>\n",
       "      <td>NaN</td>\n",
       "    </tr>\n",
       "    <tr>\n",
       "      <th>7139</th>\n",
       "      <td>2017-06-01 03:03:00</td>\n",
       "      <td>0</td>\n",
       "      <td>B6</td>\n",
       "      <td>HARWAY AV/BAY 37 ST</td>\n",
       "      <td>40.593510</td>\n",
       "      <td>-73.993996</td>\n",
       "      <td>EAST NY NEW LOTS STA</td>\n",
       "      <td>40.666420</td>\n",
       "      <td>-73.883385</td>\n",
       "      <td>NYCT_7162</td>\n",
       "      <td>40.632994</td>\n",
       "      <td>-73.925987</td>\n",
       "      <td>AV H/E 52 ST</td>\n",
       "      <td>at stop</td>\n",
       "      <td>0</td>\n",
       "      <td>NaT</td>\n",
       "      <td>2020-01-11 02:58:44</td>\n",
       "      <td>NaN</td>\n",
       "      <td>Thursday</td>\n",
       "      <td>NaN</td>\n",
       "    </tr>\n",
       "  </tbody>\n",
       "</table>\n",
       "</div>"
      ],
      "text/plain": [
       "          RecordedAtTime  DirectionRef PublishedLineName  \\\n",
       "7040 2017-06-01 03:03:00             1                B6   \n",
       "7041 2017-06-01 03:03:00             1                B6   \n",
       "7115 2017-06-01 03:03:00             0                B6   \n",
       "7139 2017-06-01 03:03:00             0                B6   \n",
       "\n",
       "                 OriginName  OriginLat  OriginLong        DestinationName  \\\n",
       "7040  LIVONIA AV/ASHFORD ST  40.666382  -73.883614  BENSONHURST HARWAY AV   \n",
       "7041  LIVONIA AV/ASHFORD ST  40.666382  -73.883614  BENSONHURST HARWAY AV   \n",
       "7115    HARWAY AV/BAY 37 ST  40.593510  -73.993996   EAST NY NEW LOTS STA   \n",
       "7139    HARWAY AV/BAY 37 ST  40.593510  -73.993996   EAST NY NEW LOTS STA   \n",
       "\n",
       "      DestinationLat  DestinationLong VehicleRef  VehicleLocation.Latitude  \\\n",
       "7040       40.592949       -73.993385  NYCT_7186                 40.632639   \n",
       "7041       40.592949       -73.993385  NYCT_7186                 40.632639   \n",
       "7115       40.666420       -73.883385  NYCT_7145                 40.596991   \n",
       "7139       40.666420       -73.883385  NYCT_7162                 40.632994   \n",
       "\n",
       "      VehicleLocation.Longitude       NextStopPointName ArrivalProximityText  \\\n",
       "7040                 -73.952826  BEDFORD AV/CAMPUS ROAD          approaching   \n",
       "7041                 -73.952826  BEDFORD AV/CAMPUS ROAD          approaching   \n",
       "7115                 -73.998363    CROPSEY AV/BAY 31 ST              at stop   \n",
       "7139                 -73.925987            AV H/E 52 ST              at stop   \n",
       "\n",
       "     DistanceFromStop ExpectedArrivalTime ScheduledArrivalTime  VehicleDelay  \\\n",
       "7040               74 2017-06-01 03:03:00  2020-01-11 03:02:27          33.0   \n",
       "7041               74 2017-06-01 03:03:00  2020-01-11 03:00:27         153.0   \n",
       "7115                0 2017-06-01 03:03:00  2020-01-11 03:01:14         106.0   \n",
       "7139                0                 NaT  2020-01-11 02:58:44           NaN   \n",
       "\n",
       "     day_of_week  MeanDelay  \n",
       "7040    Thursday        NaN  \n",
       "7041    Thursday        NaN  \n",
       "7115    Thursday        NaN  \n",
       "7139    Thursday        NaN  "
      ]
     },
     "execution_count": 197,
     "metadata": {},
     "output_type": "execute_result"
    }
   ],
   "source": [
    "B6.head(4)"
   ]
  },
  {
   "cell_type": "markdown",
   "metadata": {},
   "source": []
  },
  {
   "cell_type": "code",
   "execution_count": 200,
   "metadata": {},
   "outputs": [
    {
     "data": {
      "text/plain": [
       "day_of_week\n",
       "Friday      188.340616\n",
       "Monday      151.415803\n",
       "Saturday    317.820737\n",
       "Sunday      304.326864\n",
       "Thursday     37.748325\n",
       "Name: VehicleDelay, dtype: float64"
      ]
     },
     "execution_count": 200,
     "metadata": {},
     "output_type": "execute_result"
    }
   ],
   "source": [
    "###### df.groupby('A')['B'].mean()\n",
    "\n",
    "B6.groupby('day_of_week')['VehicleDelay'].mean()"
   ]
  },
  {
   "cell_type": "code",
   "execution_count": 201,
   "metadata": {},
   "outputs": [
    {
     "data": {
      "text/plain": [
       "VehicleRef\n",
       "NYCT_4855     20.657459\n",
       "NYCT_4856     63.513333\n",
       "NYCT_4857     75.613636\n",
       "NYCT_4858     13.693467\n",
       "NYCT_4860    138.852941\n",
       "NYCT_4861     57.028302\n",
       "NYCT_4862    -31.929688\n",
       "NYCT_4863     77.889831\n",
       "NYCT_4865    133.405063\n",
       "NYCT_4866     49.481203\n",
       "NYCT_4867    207.870588\n",
       "NYCT_4868    171.481481\n",
       "NYCT_4869    103.327684\n",
       "NYCT_4870    -50.000000\n",
       "NYCT_4871     60.358491\n",
       "NYCT_4872    -42.020833\n",
       "NYCT_4873    380.333333\n",
       "NYCT_4874    153.855204\n",
       "NYCT_4876    113.009091\n",
       "NYCT_4877     90.831325\n",
       "NYCT_4878     23.393103\n",
       "NYCT_4879    159.576271\n",
       "NYCT_4880    228.146497\n",
       "NYCT_4881     86.571429\n",
       "NYCT_4882    492.181818\n",
       "NYCT_4885    180.850649\n",
       "NYCT_4886    284.650000\n",
       "NYCT_4887     77.275862\n",
       "NYCT_4888     11.932203\n",
       "NYCT_4889     59.702703\n",
       "                ...    \n",
       "NYCT_7163    263.780142\n",
       "NYCT_7164    194.350427\n",
       "NYCT_7165    166.017094\n",
       "NYCT_7166    338.675676\n",
       "NYCT_7167    213.646341\n",
       "NYCT_7168    287.826733\n",
       "NYCT_7169    129.232804\n",
       "NYCT_7170     28.185484\n",
       "NYCT_7171    224.736842\n",
       "NYCT_7172    137.425414\n",
       "NYCT_7173    221.126506\n",
       "NYCT_7174    258.109756\n",
       "NYCT_7175    139.754601\n",
       "NYCT_7176    159.297297\n",
       "NYCT_7177      2.470149\n",
       "NYCT_7178    383.541667\n",
       "NYCT_7179      6.100000\n",
       "NYCT_7180    236.417808\n",
       "NYCT_7181    111.586207\n",
       "NYCT_7182     43.012195\n",
       "NYCT_7183    211.560976\n",
       "NYCT_7184     82.858407\n",
       "NYCT_7185    196.858268\n",
       "NYCT_7186    239.322785\n",
       "NYCT_7187    197.242647\n",
       "NYCT_7188    127.368421\n",
       "NYCT_7189    165.200000\n",
       "NYCT_7190    272.700820\n",
       "NYCT_7191    130.398964\n",
       "NYCT_7192     58.222222\n",
       "Name: VehicleDelay, Length: 152, dtype: float64"
      ]
     },
     "execution_count": 201,
     "metadata": {},
     "output_type": "execute_result"
    }
   ],
   "source": [
    "B6.groupby('VehicleRef')['VehicleDelay'].mean()"
   ]
  },
  {
   "cell_type": "code",
   "execution_count": null,
   "metadata": {
    "collapsed": true
   },
   "outputs": [],
   "source": [
    "summary.df <- m_101 %>% \n",
    "        group_by(weekdays(RecordedAtTime), hours(RecordedAtTime)) %>% \n",
    "        summarise(mean(VehicleDelay, na.rm = TRUE)) %>%\n",
    "        ungroup\n",
    "        \n",
    "        \n"
   ]
  },
  {
   "cell_type": "code",
   "execution_count": 212,
   "metadata": {},
   "outputs": [
    {
     "data": {
      "text/html": [
       "<div>\n",
       "<style>\n",
       "    .dataframe thead tr:only-child th {\n",
       "        text-align: right;\n",
       "    }\n",
       "\n",
       "    .dataframe thead th {\n",
       "        text-align: left;\n",
       "    }\n",
       "\n",
       "    .dataframe tbody tr th {\n",
       "        vertical-align: top;\n",
       "    }\n",
       "</style>\n",
       "<table border=\"1\" class=\"dataframe\">\n",
       "  <thead>\n",
       "    <tr style=\"text-align: right;\">\n",
       "      <th></th>\n",
       "      <th>RecordedAtTime</th>\n",
       "      <th>DirectionRef</th>\n",
       "      <th>PublishedLineName</th>\n",
       "      <th>OriginName</th>\n",
       "      <th>OriginLat</th>\n",
       "      <th>OriginLong</th>\n",
       "      <th>DestinationName</th>\n",
       "      <th>DestinationLat</th>\n",
       "      <th>DestinationLong</th>\n",
       "      <th>VehicleRef</th>\n",
       "      <th>VehicleLocation.Latitude</th>\n",
       "      <th>VehicleLocation.Longitude</th>\n",
       "      <th>NextStopPointName</th>\n",
       "      <th>ArrivalProximityText</th>\n",
       "      <th>DistanceFromStop</th>\n",
       "      <th>ExpectedArrivalTime</th>\n",
       "      <th>ScheduledArrivalTime</th>\n",
       "      <th>VehicleDelay</th>\n",
       "      <th>MeanDelay</th>\n",
       "    </tr>\n",
       "    <tr>\n",
       "      <th>day_of_week</th>\n",
       "      <th></th>\n",
       "      <th></th>\n",
       "      <th></th>\n",
       "      <th></th>\n",
       "      <th></th>\n",
       "      <th></th>\n",
       "      <th></th>\n",
       "      <th></th>\n",
       "      <th></th>\n",
       "      <th></th>\n",
       "      <th></th>\n",
       "      <th></th>\n",
       "      <th></th>\n",
       "      <th></th>\n",
       "      <th></th>\n",
       "      <th></th>\n",
       "      <th></th>\n",
       "      <th></th>\n",
       "      <th></th>\n",
       "    </tr>\n",
       "  </thead>\n",
       "  <tbody>\n",
       "    <tr>\n",
       "      <th>Friday</th>\n",
       "      <td>4592</td>\n",
       "      <td>4592</td>\n",
       "      <td>4592</td>\n",
       "      <td>4592</td>\n",
       "      <td>4592</td>\n",
       "      <td>4592</td>\n",
       "      <td>4592</td>\n",
       "      <td>4592</td>\n",
       "      <td>4592</td>\n",
       "      <td>4592</td>\n",
       "      <td>4592</td>\n",
       "      <td>4592</td>\n",
       "      <td>4582</td>\n",
       "      <td>4582</td>\n",
       "      <td>4582</td>\n",
       "      <td>4028</td>\n",
       "      <td>4537</td>\n",
       "      <td>4028</td>\n",
       "      <td>0</td>\n",
       "    </tr>\n",
       "    <tr>\n",
       "      <th>Monday</th>\n",
       "      <td>4156</td>\n",
       "      <td>4156</td>\n",
       "      <td>4156</td>\n",
       "      <td>4156</td>\n",
       "      <td>4156</td>\n",
       "      <td>4156</td>\n",
       "      <td>4156</td>\n",
       "      <td>4156</td>\n",
       "      <td>4156</td>\n",
       "      <td>4156</td>\n",
       "      <td>4156</td>\n",
       "      <td>4156</td>\n",
       "      <td>4152</td>\n",
       "      <td>4152</td>\n",
       "      <td>4152</td>\n",
       "      <td>3569</td>\n",
       "      <td>4091</td>\n",
       "      <td>3569</td>\n",
       "      <td>0</td>\n",
       "    </tr>\n",
       "    <tr>\n",
       "      <th>Saturday</th>\n",
       "      <td>3153</td>\n",
       "      <td>3153</td>\n",
       "      <td>3153</td>\n",
       "      <td>3122</td>\n",
       "      <td>3122</td>\n",
       "      <td>3122</td>\n",
       "      <td>3153</td>\n",
       "      <td>3153</td>\n",
       "      <td>3153</td>\n",
       "      <td>3153</td>\n",
       "      <td>3153</td>\n",
       "      <td>3153</td>\n",
       "      <td>3148</td>\n",
       "      <td>3148</td>\n",
       "      <td>3148</td>\n",
       "      <td>2765</td>\n",
       "      <td>3080</td>\n",
       "      <td>2739</td>\n",
       "      <td>0</td>\n",
       "    </tr>\n",
       "    <tr>\n",
       "      <th>Sunday</th>\n",
       "      <td>2276</td>\n",
       "      <td>2276</td>\n",
       "      <td>2276</td>\n",
       "      <td>2225</td>\n",
       "      <td>2225</td>\n",
       "      <td>2225</td>\n",
       "      <td>2276</td>\n",
       "      <td>2276</td>\n",
       "      <td>2276</td>\n",
       "      <td>2276</td>\n",
       "      <td>2276</td>\n",
       "      <td>2276</td>\n",
       "      <td>2273</td>\n",
       "      <td>2273</td>\n",
       "      <td>2273</td>\n",
       "      <td>2006</td>\n",
       "      <td>2183</td>\n",
       "      <td>1958</td>\n",
       "      <td>0</td>\n",
       "    </tr>\n",
       "    <tr>\n",
       "      <th>Thursday</th>\n",
       "      <td>4685</td>\n",
       "      <td>4685</td>\n",
       "      <td>4685</td>\n",
       "      <td>4640</td>\n",
       "      <td>4640</td>\n",
       "      <td>4640</td>\n",
       "      <td>4685</td>\n",
       "      <td>4685</td>\n",
       "      <td>4685</td>\n",
       "      <td>4685</td>\n",
       "      <td>4685</td>\n",
       "      <td>4685</td>\n",
       "      <td>4680</td>\n",
       "      <td>4680</td>\n",
       "      <td>4680</td>\n",
       "      <td>4069</td>\n",
       "      <td>4541</td>\n",
       "      <td>4029</td>\n",
       "      <td>0</td>\n",
       "    </tr>\n",
       "  </tbody>\n",
       "</table>\n",
       "</div>"
      ],
      "text/plain": [
       "             RecordedAtTime  DirectionRef  PublishedLineName  OriginName  \\\n",
       "day_of_week                                                                \n",
       "Friday                 4592          4592               4592        4592   \n",
       "Monday                 4156          4156               4156        4156   \n",
       "Saturday               3153          3153               3153        3122   \n",
       "Sunday                 2276          2276               2276        2225   \n",
       "Thursday               4685          4685               4685        4640   \n",
       "\n",
       "             OriginLat  OriginLong  DestinationName  DestinationLat  \\\n",
       "day_of_week                                                           \n",
       "Friday            4592        4592             4592            4592   \n",
       "Monday            4156        4156             4156            4156   \n",
       "Saturday          3122        3122             3153            3153   \n",
       "Sunday            2225        2225             2276            2276   \n",
       "Thursday          4640        4640             4685            4685   \n",
       "\n",
       "             DestinationLong  VehicleRef  VehicleLocation.Latitude  \\\n",
       "day_of_week                                                          \n",
       "Friday                  4592        4592                      4592   \n",
       "Monday                  4156        4156                      4156   \n",
       "Saturday                3153        3153                      3153   \n",
       "Sunday                  2276        2276                      2276   \n",
       "Thursday                4685        4685                      4685   \n",
       "\n",
       "             VehicleLocation.Longitude  NextStopPointName  \\\n",
       "day_of_week                                                 \n",
       "Friday                            4592               4582   \n",
       "Monday                            4156               4152   \n",
       "Saturday                          3153               3148   \n",
       "Sunday                            2276               2273   \n",
       "Thursday                          4685               4680   \n",
       "\n",
       "             ArrivalProximityText  DistanceFromStop  ExpectedArrivalTime  \\\n",
       "day_of_week                                                                \n",
       "Friday                       4582              4582                 4028   \n",
       "Monday                       4152              4152                 3569   \n",
       "Saturday                     3148              3148                 2765   \n",
       "Sunday                       2273              2273                 2006   \n",
       "Thursday                     4680              4680                 4069   \n",
       "\n",
       "             ScheduledArrivalTime  VehicleDelay  MeanDelay  \n",
       "day_of_week                                                 \n",
       "Friday                       4537          4028          0  \n",
       "Monday                       4091          3569          0  \n",
       "Saturday                     3080          2739          0  \n",
       "Sunday                       2183          1958          0  \n",
       "Thursday                     4541          4029          0  "
      ]
     },
     "execution_count": 212,
     "metadata": {},
     "output_type": "execute_result"
    }
   ],
   "source": [
    "B6.groupby('day_of_week').count()"
   ]
  },
  {
   "cell_type": "code",
   "execution_count": 213,
   "metadata": {},
   "outputs": [
    {
     "data": {
      "text/html": [
       "<div>\n",
       "<style>\n",
       "    .dataframe thead tr:only-child th {\n",
       "        text-align: right;\n",
       "    }\n",
       "\n",
       "    .dataframe thead th {\n",
       "        text-align: left;\n",
       "    }\n",
       "\n",
       "    .dataframe tbody tr th {\n",
       "        vertical-align: top;\n",
       "    }\n",
       "</style>\n",
       "<table border=\"1\" class=\"dataframe\">\n",
       "  <thead>\n",
       "    <tr style=\"text-align: right;\">\n",
       "      <th></th>\n",
       "      <th>RecordedAtTime</th>\n",
       "      <th>DirectionRef</th>\n",
       "      <th>PublishedLineName</th>\n",
       "      <th>OriginName</th>\n",
       "      <th>OriginLat</th>\n",
       "      <th>OriginLong</th>\n",
       "      <th>DestinationName</th>\n",
       "      <th>DestinationLat</th>\n",
       "      <th>DestinationLong</th>\n",
       "      <th>VehicleRef</th>\n",
       "      <th>VehicleLocation.Latitude</th>\n",
       "      <th>VehicleLocation.Longitude</th>\n",
       "      <th>NextStopPointName</th>\n",
       "      <th>ArrivalProximityText</th>\n",
       "      <th>DistanceFromStop</th>\n",
       "      <th>ExpectedArrivalTime</th>\n",
       "      <th>ScheduledArrivalTime</th>\n",
       "      <th>VehicleDelay</th>\n",
       "      <th>day_of_week</th>\n",
       "      <th>MeanDelay</th>\n",
       "    </tr>\n",
       "  </thead>\n",
       "  <tbody>\n",
       "    <tr>\n",
       "      <th>7040</th>\n",
       "      <td>2017-06-01 03:03:00</td>\n",
       "      <td>1</td>\n",
       "      <td>B6</td>\n",
       "      <td>LIVONIA AV/ASHFORD ST</td>\n",
       "      <td>40.666382</td>\n",
       "      <td>-73.883614</td>\n",
       "      <td>BENSONHURST HARWAY AV</td>\n",
       "      <td>40.592949</td>\n",
       "      <td>-73.993385</td>\n",
       "      <td>NYCT_7186</td>\n",
       "      <td>40.632639</td>\n",
       "      <td>-73.952826</td>\n",
       "      <td>BEDFORD AV/CAMPUS ROAD</td>\n",
       "      <td>approaching</td>\n",
       "      <td>74</td>\n",
       "      <td>2017-06-01 03:03:00</td>\n",
       "      <td>2020-01-11 03:02:27</td>\n",
       "      <td>33.0</td>\n",
       "      <td>Thursday</td>\n",
       "      <td>NaN</td>\n",
       "    </tr>\n",
       "    <tr>\n",
       "      <th>7041</th>\n",
       "      <td>2017-06-01 03:03:00</td>\n",
       "      <td>1</td>\n",
       "      <td>B6</td>\n",
       "      <td>LIVONIA AV/ASHFORD ST</td>\n",
       "      <td>40.666382</td>\n",
       "      <td>-73.883614</td>\n",
       "      <td>BENSONHURST HARWAY AV</td>\n",
       "      <td>40.592949</td>\n",
       "      <td>-73.993385</td>\n",
       "      <td>NYCT_7186</td>\n",
       "      <td>40.632639</td>\n",
       "      <td>-73.952826</td>\n",
       "      <td>BEDFORD AV/CAMPUS ROAD</td>\n",
       "      <td>approaching</td>\n",
       "      <td>74</td>\n",
       "      <td>2017-06-01 03:03:00</td>\n",
       "      <td>2020-01-11 03:00:27</td>\n",
       "      <td>153.0</td>\n",
       "      <td>Thursday</td>\n",
       "      <td>NaN</td>\n",
       "    </tr>\n",
       "    <tr>\n",
       "      <th>7115</th>\n",
       "      <td>2017-06-01 03:03:00</td>\n",
       "      <td>0</td>\n",
       "      <td>B6</td>\n",
       "      <td>HARWAY AV/BAY 37 ST</td>\n",
       "      <td>40.593510</td>\n",
       "      <td>-73.993996</td>\n",
       "      <td>EAST NY NEW LOTS STA</td>\n",
       "      <td>40.666420</td>\n",
       "      <td>-73.883385</td>\n",
       "      <td>NYCT_7145</td>\n",
       "      <td>40.596991</td>\n",
       "      <td>-73.998363</td>\n",
       "      <td>CROPSEY AV/BAY 31 ST</td>\n",
       "      <td>at stop</td>\n",
       "      <td>0</td>\n",
       "      <td>2017-06-01 03:03:00</td>\n",
       "      <td>2020-01-11 03:01:14</td>\n",
       "      <td>106.0</td>\n",
       "      <td>Thursday</td>\n",
       "      <td>NaN</td>\n",
       "    </tr>\n",
       "    <tr>\n",
       "      <th>7139</th>\n",
       "      <td>2017-06-01 03:03:00</td>\n",
       "      <td>0</td>\n",
       "      <td>B6</td>\n",
       "      <td>HARWAY AV/BAY 37 ST</td>\n",
       "      <td>40.593510</td>\n",
       "      <td>-73.993996</td>\n",
       "      <td>EAST NY NEW LOTS STA</td>\n",
       "      <td>40.666420</td>\n",
       "      <td>-73.883385</td>\n",
       "      <td>NYCT_7162</td>\n",
       "      <td>40.632994</td>\n",
       "      <td>-73.925987</td>\n",
       "      <td>AV H/E 52 ST</td>\n",
       "      <td>at stop</td>\n",
       "      <td>0</td>\n",
       "      <td>NaT</td>\n",
       "      <td>2020-01-11 02:58:44</td>\n",
       "      <td>NaN</td>\n",
       "      <td>Thursday</td>\n",
       "      <td>NaN</td>\n",
       "    </tr>\n",
       "  </tbody>\n",
       "</table>\n",
       "</div>"
      ],
      "text/plain": [
       "          RecordedAtTime  DirectionRef PublishedLineName  \\\n",
       "7040 2017-06-01 03:03:00             1                B6   \n",
       "7041 2017-06-01 03:03:00             1                B6   \n",
       "7115 2017-06-01 03:03:00             0                B6   \n",
       "7139 2017-06-01 03:03:00             0                B6   \n",
       "\n",
       "                 OriginName  OriginLat  OriginLong        DestinationName  \\\n",
       "7040  LIVONIA AV/ASHFORD ST  40.666382  -73.883614  BENSONHURST HARWAY AV   \n",
       "7041  LIVONIA AV/ASHFORD ST  40.666382  -73.883614  BENSONHURST HARWAY AV   \n",
       "7115    HARWAY AV/BAY 37 ST  40.593510  -73.993996   EAST NY NEW LOTS STA   \n",
       "7139    HARWAY AV/BAY 37 ST  40.593510  -73.993996   EAST NY NEW LOTS STA   \n",
       "\n",
       "      DestinationLat  DestinationLong VehicleRef  VehicleLocation.Latitude  \\\n",
       "7040       40.592949       -73.993385  NYCT_7186                 40.632639   \n",
       "7041       40.592949       -73.993385  NYCT_7186                 40.632639   \n",
       "7115       40.666420       -73.883385  NYCT_7145                 40.596991   \n",
       "7139       40.666420       -73.883385  NYCT_7162                 40.632994   \n",
       "\n",
       "      VehicleLocation.Longitude       NextStopPointName ArrivalProximityText  \\\n",
       "7040                 -73.952826  BEDFORD AV/CAMPUS ROAD          approaching   \n",
       "7041                 -73.952826  BEDFORD AV/CAMPUS ROAD          approaching   \n",
       "7115                 -73.998363    CROPSEY AV/BAY 31 ST              at stop   \n",
       "7139                 -73.925987            AV H/E 52 ST              at stop   \n",
       "\n",
       "     DistanceFromStop ExpectedArrivalTime ScheduledArrivalTime  VehicleDelay  \\\n",
       "7040               74 2017-06-01 03:03:00  2020-01-11 03:02:27          33.0   \n",
       "7041               74 2017-06-01 03:03:00  2020-01-11 03:00:27         153.0   \n",
       "7115                0 2017-06-01 03:03:00  2020-01-11 03:01:14         106.0   \n",
       "7139                0                 NaT  2020-01-11 02:58:44           NaN   \n",
       "\n",
       "     day_of_week  MeanDelay  \n",
       "7040    Thursday        NaN  \n",
       "7041    Thursday        NaN  \n",
       "7115    Thursday        NaN  \n",
       "7139    Thursday        NaN  "
      ]
     },
     "execution_count": 213,
     "metadata": {},
     "output_type": "execute_result"
    }
   ],
   "source": [
    "B6.head(4)"
   ]
  },
  {
   "cell_type": "code",
   "execution_count": null,
   "metadata": {
    "collapsed": true
   },
   "outputs": [],
   "source": []
  }
 ],
 "metadata": {
  "kernelspec": {
   "display_name": "Python 3",
   "language": "python",
   "name": "python3"
  },
  "language_info": {
   "codemirror_mode": {
    "name": "ipython",
    "version": 3
   },
   "file_extension": ".py",
   "mimetype": "text/x-python",
   "name": "python",
   "nbconvert_exporter": "python",
   "pygments_lexer": "ipython3",
   "version": "3.6.2"
  }
 },
 "nbformat": 4,
 "nbformat_minor": 2
}
