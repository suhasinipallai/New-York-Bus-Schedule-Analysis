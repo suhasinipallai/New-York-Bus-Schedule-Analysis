{
 "cells": [
  {
   "cell_type": "markdown",
   "metadata": {},
   "source": [
    "Executive Summary:\n",
    "\n",
    "Bus services in New York city expect scheduled delays because of heavy traffic. This project is based on New York Bus traffic system.\n",
    "Data is recorded from the MTA GTFS scheduled data website.\n",
    "\n",
    "Data Question:\n",
    " * Does B6 published line bus services in New York run on scheduled time?\n",
    " * Does NYCT-4855 bus number running in B6 published line reaches its destination on time without delays?\n",
    " * On what days of the week, can we expect delays?\n",
    " * Which time of the day, delays can be expected?\n",
    "\n",
    "Data Sources:\n",
    "\n",
    "MTA 1706 data from GTFS scheduled - https://datamine.mta.info/\n",
    "\n",
    "\n",
    "Known Issues & Challenges:\n",
    "The main challenge will be to handle the missing data, manipulating data, correlate the features, visualize them and finding the delay time for a bus number NYCT-4855.\n",
    "\n",
    "\n",
    "S/w used - Python 3.0\n",
    "Tools used - Pandas, Numpy\n",
    "Visualization Tools - Seaborn, Matplotlib \n"
   ]
  },
  {
   "cell_type": "code",
   "execution_count": null,
   "metadata": {
    "collapsed": true
   },
   "outputs": [],
   "source": []
  }
 ],
 "metadata": {
  "kernelspec": {
   "display_name": "Python 3",
   "language": "python",
   "name": "python3"
  },
  "language_info": {
   "codemirror_mode": {
    "name": "ipython",
    "version": 3
   },
   "file_extension": ".py",
   "mimetype": "text/x-python",
   "name": "python",
   "nbconvert_exporter": "python",
   "pygments_lexer": "ipython3",
   "version": "3.6.2"
  }
 },
 "nbformat": 4,
 "nbformat_minor": 2
}
